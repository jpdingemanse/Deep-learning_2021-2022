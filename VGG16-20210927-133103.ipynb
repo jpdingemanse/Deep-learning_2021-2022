{
 "cells": [
  {
   "cell_type": "code",
   "metadata": {
    "cell_id": "00000-6cb4c20c-82bd-41a5-8d6c-603f7a95f66a",
    "deepnote_cell_type": "code"
   },
   "source": "import imageio\nimport glob\nimport numpy as np\nimport matplotlib.pyplot as plt",
   "execution_count": 1,
   "outputs": []
  },
  {
   "cell_type": "code",
   "metadata": {
    "cell_id": "00001-eadd10fe-3565-4afc-9845-21d5caeb6d4e",
    "deepnote_cell_type": "code"
   },
   "source": "import tensorflow as tf\nfrom tensorflow import keras",
   "execution_count": 2,
   "outputs": []
  },
  {
   "cell_type": "code",
   "metadata": {
    "cell_id": "00002-629ff3ca-2451-44b6-91f7-d3460d493c22",
    "deepnote_cell_type": "code"
   },
   "source": "##Path for Training data\npath = \"C:/Users/karni/Documents/Data Science and Society Coursework/Blok 1/Deep Learning/Assignment/Train Data set/Train/Train/\"\n##Path for Validation data\npath2 = \"C:/Users/karni/Documents/Data Science and Society Coursework/Blok 1/Deep Learning/Assignment/Train Data set/Test/Test/\"",
   "execution_count": 3,
   "outputs": []
  },
  {
   "cell_type": "code",
   "metadata": {
    "cell_id": "00003-9a50f97a-60b7-4b42-97ed-38939520dda7",
    "deepnote_cell_type": "code"
   },
   "source": "genders = ['Male', 'Female']\nfrmt = \"png\"",
   "execution_count": 4,
   "outputs": []
  },
  {
   "cell_type": "code",
   "metadata": {
    "cell_id": "00004-0e565b1e-f962-425e-bfbb-737d092493c9",
    "deepnote_cell_type": "code"
   },
   "source": "def imgtodataset(path, genders, frmt):\n    data_l = []\n    label_l = []\n    \n    for i in range(len(genders)):\n        for im_path in glob.glob(path + genders[i] + \"/*.\" + frmt):\n            im = imageio.imread(im_path)\n            arr = np.array(im)\n            data_l.append(arr)\n            label_l.append(i)\n\n    data = np.array(data_l)\n    label = np.array(label_l)        \n    \n    return data, label",
   "execution_count": 5,
   "outputs": []
  },
  {
   "cell_type": "code",
   "metadata": {
    "cell_id": "00005-d0ea9328-bf7c-4dd9-b31d-b445f32beabc",
    "deepnote_cell_type": "code"
   },
   "source": "data, label = imgtodataset(path, genders, frmt)",
   "execution_count": 6,
   "outputs": []
  },
  {
   "cell_type": "code",
   "metadata": {
    "cell_id": "00006-42f8030c-5fc4-49a3-9d26-64e887f721db",
    "deepnote_cell_type": "code"
   },
   "source": "val_data, val_label = imgtodataset(path2, genders, frmt)",
   "execution_count": 7,
   "outputs": []
  },
  {
   "cell_type": "code",
   "metadata": {
    "cell_id": "00007-f1e9bf45-d34b-4fdc-9dd9-9c3f8d22bd06",
    "deepnote_cell_type": "code"
   },
   "source": "#Preprocessing data",
   "execution_count": 8,
   "outputs": []
  },
  {
   "cell_type": "code",
   "metadata": {
    "cell_id": "00008-b88c3653-c871-4b70-a8f7-277ae2549402",
    "deepnote_cell_type": "code"
   },
   "source": "data_pp = tf.keras.applications.vgg16.preprocess_input(\n        data, data_format=None\n    )",
   "execution_count": 9,
   "outputs": []
  },
  {
   "cell_type": "code",
   "metadata": {
    "cell_id": "00009-c21e1b86-7d07-4d49-bd11-49dd9c54e357",
    "deepnote_cell_type": "code"
   },
   "source": "val_data_pp =  tf.keras.applications.vgg16.preprocess_input(\n        val_data, data_format=None\n    )",
   "execution_count": 10,
   "outputs": []
  },
  {
   "cell_type": "code",
   "metadata": {
    "cell_id": "00010-5f2714bf-f362-4f3f-9cfe-c756c7e750ef",
    "deepnote_cell_type": "code"
   },
   "source": "",
   "execution_count": null,
   "outputs": []
  },
  {
   "cell_type": "code",
   "metadata": {
    "cell_id": "00011-a762d474-1934-4031-a1d2-224a080a5c43",
    "deepnote_cell_type": "code"
   },
   "source": "base_vgg_model = tf.keras.applications.vgg16.VGG16(\n    include_top=False, weights='imagenet', input_tensor=None,\n    input_shape=(100,100,3), pooling=max, classes=2)",
   "execution_count": 11,
   "outputs": []
  },
  {
   "cell_type": "code",
   "metadata": {
    "cell_id": "00012-3f074a49-d463-4e75-b0c5-22398006474d",
    "deepnote_cell_type": "code"
   },
   "source": "base_vgg_model.summary()",
   "execution_count": 12,
   "outputs": [
    {
     "name": "stdout",
     "output_type": "stream",
     "text": "Model: \"vgg16\"\n_________________________________________________________________\nLayer (type)                 Output Shape              Param #   \n=================================================================\ninput_1 (InputLayer)         [(None, 100, 100, 3)]     0         \n_________________________________________________________________\nblock1_conv1 (Conv2D)        (None, 100, 100, 64)      1792      \n_________________________________________________________________\nblock1_conv2 (Conv2D)        (None, 100, 100, 64)      36928     \n_________________________________________________________________\nblock1_pool (MaxPooling2D)   (None, 50, 50, 64)        0         \n_________________________________________________________________\nblock2_conv1 (Conv2D)        (None, 50, 50, 128)       73856     \n_________________________________________________________________\nblock2_conv2 (Conv2D)        (None, 50, 50, 128)       147584    \n_________________________________________________________________\nblock2_pool (MaxPooling2D)   (None, 25, 25, 128)       0         \n_________________________________________________________________\nblock3_conv1 (Conv2D)        (None, 25, 25, 256)       295168    \n_________________________________________________________________\nblock3_conv2 (Conv2D)        (None, 25, 25, 256)       590080    \n_________________________________________________________________\nblock3_conv3 (Conv2D)        (None, 25, 25, 256)       590080    \n_________________________________________________________________\nblock3_pool (MaxPooling2D)   (None, 12, 12, 256)       0         \n_________________________________________________________________\nblock4_conv1 (Conv2D)        (None, 12, 12, 512)       1180160   \n_________________________________________________________________\nblock4_conv2 (Conv2D)        (None, 12, 12, 512)       2359808   \n_________________________________________________________________\nblock4_conv3 (Conv2D)        (None, 12, 12, 512)       2359808   \n_________________________________________________________________\nblock4_pool (MaxPooling2D)   (None, 6, 6, 512)         0         \n_________________________________________________________________\nblock5_conv1 (Conv2D)        (None, 6, 6, 512)         2359808   \n_________________________________________________________________\nblock5_conv2 (Conv2D)        (None, 6, 6, 512)         2359808   \n_________________________________________________________________\nblock5_conv3 (Conv2D)        (None, 6, 6, 512)         2359808   \n_________________________________________________________________\nblock5_pool (MaxPooling2D)   (None, 3, 3, 512)         0         \n=================================================================\nTotal params: 14,714,688\nTrainable params: 14,714,688\nNon-trainable params: 0\n_________________________________________________________________\n"
    }
   ]
  },
  {
   "cell_type": "code",
   "metadata": {
    "cell_id": "00013-519433c3-3ead-4d10-a7b0-bb053a3744db",
    "deepnote_cell_type": "code"
   },
   "source": "base_vgg_model.trainable = False",
   "execution_count": 13,
   "outputs": []
  },
  {
   "cell_type": "code",
   "metadata": {
    "cell_id": "00014-5a7809b8-964f-47fd-b6a9-ac5baa3d928e",
    "deepnote_cell_type": "code"
   },
   "source": "inputs = keras.Input(shape=(100, 100, 3))",
   "execution_count": 14,
   "outputs": []
  },
  {
   "cell_type": "code",
   "metadata": {
    "cell_id": "00015-b86851b2-d032-494b-844b-576738deedb8",
    "deepnote_cell_type": "code"
   },
   "source": "x = base_vgg_model(inputs, training=False)",
   "execution_count": 15,
   "outputs": []
  },
  {
   "cell_type": "code",
   "metadata": {
    "cell_id": "00016-4cdb1905-6c9d-4be8-8497-cd1d002d03a2",
    "deepnote_cell_type": "code"
   },
   "source": "x = keras.layers.Flatten()(x)",
   "execution_count": 16,
   "outputs": []
  },
  {
   "cell_type": "code",
   "metadata": {
    "cell_id": "00017-365e0e6f-35bc-4b62-9d1f-95c05ad1d145",
    "deepnote_cell_type": "code"
   },
   "source": "## Defining the number of epochs\nepochs_range = 20",
   "execution_count": 32,
   "outputs": []
  },
  {
   "cell_type": "code",
   "metadata": {
    "cell_id": "00018-c52fde8f-9cca-4324-b486-a2ba23eb84be",
    "deepnote_cell_type": "code"
   },
   "source": "##Building competing models",
   "execution_count": 17,
   "outputs": []
  },
  {
   "cell_type": "code",
   "metadata": {
    "cell_id": "00019-a3b03016-a04d-46bb-ba6a-499b9d6d4ea2",
    "deepnote_cell_type": "code"
   },
   "source": "x_1 = keras.layers.Dense(64, activation='relu')(x)\noutputs_1 = keras.layers.Dense(1, activation='sigmoid')(x_1)\nmodel_1_1 = keras.Model(inputs, outputs_1)",
   "execution_count": 24,
   "outputs": []
  },
  {
   "cell_type": "code",
   "metadata": {
    "cell_id": "00020-eb2cd8ed-4f9c-4e4e-adea-f2246f5370bc",
    "deepnote_cell_type": "code"
   },
   "source": "",
   "execution_count": null,
   "outputs": []
  },
  {
   "cell_type": "code",
   "metadata": {
    "cell_id": "00021-ce68c655-8e41-48bf-93bf-114b857c772c",
    "deepnote_cell_type": "code"
   },
   "source": "model_1_1.compile(optimizer=keras.optimizers.Adam(),\n              loss=keras.losses.BinaryCrossentropy(),\n              metrics=[keras.metrics.BinaryAccuracy(), keras.metrics.Accuracy(), keras.metrics.AUC(), keras.metrics.Precision(),keras.metrics.Recall(), \n                      keras.metrics.TruePositives(), keras.metrics.TrueNegatives(), keras.metrics.FalsePositives(), \n                    keras.metrics.FalseNegatives()])",
   "execution_count": 26,
   "outputs": []
  },
  {
   "cell_type": "code",
   "metadata": {
    "cell_id": "00022-c6c0c73d-2ba7-42e6-b946-210c1b5478e8",
    "deepnote_cell_type": "code"
   },
   "source": "history_1_1 = model_1_1.fit(data_pp, label, epochs=epochs_range, validation_data=(val_data_pp, val_label))",
   "execution_count": 27,
   "outputs": [
    {
     "name": "stdout",
     "output_type": "stream",
     "text": "Epoch 1/8\n348/348 [==============================] - 341s 976ms/step - loss: 3.2038 - binary_accuracy: 0.8392 - accuracy: 0.3535 - auc_3: 0.8625 - precision_3: 0.8272 - recall_3: 0.8296 - true_positives_3: 4323.0000 - true_negatives_3: 5021.0000 - false_positives_3: 903.0000 - false_negatives_3: 888.0000 - val_loss: 1.6635 - val_binary_accuracy: 0.8577 - val_accuracy: 0.1493 - val_auc_3: 0.8782 - val_precision_3: 0.9211 - val_recall_3: 0.6972 - val_true_positives_3: 350.0000 - val_true_negatives_3: 747.0000 - val_false_positives_3: 30.0000 - val_false_negatives_3: 152.0000\nEpoch 2/8\n348/348 [==============================] - 352s 1s/step - loss: 0.5370 - binary_accuracy: 0.8965 - accuracy: 0.1422 - auc_3: 0.9442 - precision_3: 0.8919 - recall_3: 0.8862 - true_positives_3: 4618.0000 - true_negatives_3: 5364.0000 - false_positives_3: 560.0000 - false_negatives_3: 593.0000 - val_loss: 0.5334 - val_binary_accuracy: 0.8749 - val_accuracy: 0.0211 - val_auc_3: 0.9299 - val_precision_3: 0.8685 - val_recall_3: 0.8028 - val_true_positives_3: 403.0000 - val_true_negatives_3: 716.0000 - val_false_positives_3: 61.0000 - val_false_negatives_3: 99.0000\nEpoch 3/8\n348/348 [==============================] - 342s 982ms/step - loss: 0.2063 - binary_accuracy: 0.9255 - accuracy: 0.0151 - auc_3: 0.9758 - precision_3: 0.9239 - recall_3: 0.9161 - true_positives_3: 4774.0000 - true_negatives_3: 5531.0000 - false_positives_3: 393.0000 - false_negatives_3: 437.0000 - val_loss: 0.4099 - val_binary_accuracy: 0.8726 - val_accuracy: 0.0039 - val_auc_3: 0.9317 - val_precision_3: 0.8204 - val_recall_3: 0.8645 - val_true_positives_3: 434.0000 - val_true_negatives_3: 682.0000 - val_false_positives_3: 95.0000 - val_false_negatives_3: 68.0000\nEpoch 4/8\n348/348 [==============================] - 337s 968ms/step - loss: 0.1668 - binary_accuracy: 0.9355 - accuracy: 0.0058 - auc_3: 0.9825 - precision_3: 0.9366 - recall_3: 0.9248 - true_positives_3: 4819.0000 - true_negatives_3: 5598.0000 - false_positives_3: 326.0000 - false_negatives_3: 392.0000 - val_loss: 0.4017 - val_binary_accuracy: 0.8804 - val_accuracy: 0.0047 - val_auc_3: 0.9378 - val_precision_3: 0.8753 - val_recall_3: 0.8108 - val_true_positives_3: 407.0000 - val_true_negatives_3: 719.0000 - val_false_positives_3: 58.0000 - val_false_negatives_3: 95.0000\nEpoch 5/8\n348/348 [==============================] - 426s 1s/step - loss: 0.1567 - binary_accuracy: 0.9397 - accuracy: 0.0073 - auc_3: 0.9844 - precision_3: 0.9399 - recall_3: 0.9307 - true_positives_3: 4850.0000 - true_negatives_3: 5614.0000 - false_positives_3: 310.0000 - false_negatives_3: 361.0000 - val_loss: 0.3893 - val_binary_accuracy: 0.8726 - val_accuracy: 0.0031 - val_auc_3: 0.9360 - val_precision_3: 0.8709 - val_recall_3: 0.7928 - val_true_positives_3: 398.0000 - val_true_negatives_3: 718.0000 - val_false_positives_3: 59.0000 - val_false_negatives_3: 104.0000\nEpoch 6/8\n348/348 [==============================] - 331s 951ms/step - loss: 0.1574 - binary_accuracy: 0.9405 - accuracy: 0.0082 - auc_3: 0.9844 - precision_3: 0.9412 - recall_3: 0.9309 - true_positives_3: 4851.0000 - true_negatives_3: 5621.0000 - false_positives_3: 303.0000 - false_negatives_3: 360.0000 - val_loss: 0.4254 - val_binary_accuracy: 0.8804 - val_accuracy: 0.0078 - val_auc_3: 0.9316 - val_precision_3: 0.8598 - val_recall_3: 0.8307 - val_true_positives_3: 417.0000 - val_true_negatives_3: 709.0000 - val_false_positives_3: 68.0000 - val_false_negatives_3: 85.0000\nEpoch 7/8\n348/348 [==============================] - 376s 1s/step - loss: 0.1538 - binary_accuracy: 0.9408 - accuracy: 0.0114 - auc_3: 0.9853 - precision_3: 0.9399 - recall_3: 0.9332 - true_positives_3: 4863.0000 - true_negatives_3: 5613.0000 - false_positives_3: 311.0000 - false_negatives_3: 348.0000 - val_loss: 0.4429 - val_binary_accuracy: 0.8561 - val_accuracy: 0.0055 - val_auc_3: 0.9279 - val_precision_3: 0.7860 - val_recall_3: 0.8705 - val_true_positives_3: 437.0000 - val_true_negatives_3: 658.0000 - val_false_positives_3: 119.0000 - val_false_negatives_3: 65.0000\nEpoch 8/8\n348/348 [==============================] - 324s 931ms/step - loss: 0.1636 - binary_accuracy: 0.9397 - accuracy: 0.0095 - auc_3: 0.9833 - precision_3: 0.9386 - recall_3: 0.9323 - true_positives_3: 4858.0000 - true_negatives_3: 5606.0000 - false_positives_3: 318.0000 - false_negatives_3: 353.0000 - val_loss: 0.4368 - val_binary_accuracy: 0.8522 - val_accuracy: 0.0047 - val_auc_3: 0.9277 - val_precision_3: 0.7780 - val_recall_3: 0.8725 - val_true_positives_3: 438.0000 - val_true_negatives_3: 652.0000 - val_false_positives_3: 125.0000 - val_false_negatives_3: 64.0000\n"
    }
   ]
  },
  {
   "cell_type": "code",
   "metadata": {
    "cell_id": "00023-edb6a77e-69f7-4214-afdd-5c2e95f46bfd",
    "deepnote_cell_type": "code"
   },
   "source": "model_1_1.summary()",
   "execution_count": 28,
   "outputs": [
    {
     "name": "stdout",
     "output_type": "stream",
     "text": "Model: \"model_2\"\n_________________________________________________________________\nLayer (type)                 Output Shape              Param #   \n=================================================================\ninput_2 (InputLayer)         [(None, 100, 100, 3)]     0         \n_________________________________________________________________\nvgg16 (Functional)           (None, 3, 3, 512)         14714688  \n_________________________________________________________________\nflatten (Flatten)            (None, 4608)              0         \n_________________________________________________________________\ndense_4 (Dense)              (None, 64)                294976    \n_________________________________________________________________\ndense_5 (Dense)              (None, 1)                 65        \n=================================================================\nTotal params: 15,009,729\nTrainable params: 295,041\nNon-trainable params: 14,714,688\n_________________________________________________________________\n"
    }
   ]
  },
  {
   "cell_type": "code",
   "metadata": {
    "cell_id": "00024-8d0d7cb0-4443-41a2-ac86-6b76a6dbb192",
    "deepnote_cell_type": "code"
   },
   "source": "history_1_1.history",
   "execution_count": 29,
   "outputs": [
    {
     "data": {
      "text/plain": "{'loss': [3.203836679458618,\n  0.5370157361030579,\n  0.20629501342773438,\n  0.16684956848621368,\n  0.15673168003559113,\n  0.15735876560211182,\n  0.15376827120780945,\n  0.16359087824821472],\n 'binary_accuracy': [0.8391557931900024,\n  0.8964526057243347,\n  0.9254602789878845,\n  0.9355186223983765,\n  0.9397395849227905,\n  0.9404579997062683,\n  0.9408172369003296,\n  0.9397395849227905],\n 'accuracy': [0.3534800112247467,\n  0.14216434955596924,\n  0.015087561681866646,\n  0.005837449338287115,\n  0.007274359930306673,\n  0.008172429166734219,\n  0.011405478231608868,\n  0.00951953325420618],\n 'auc_3': [0.8625208735466003,\n  0.9442067742347717,\n  0.9757828712463379,\n  0.9824899435043335,\n  0.9844189882278442,\n  0.9844139218330383,\n  0.9853391051292419,\n  0.9832614660263062],\n 'precision_3': [0.8272101283073425,\n  0.8918501138687134,\n  0.9239404201507568,\n  0.9366375207901001,\n  0.9399224519729614,\n  0.9412106871604919,\n  0.9398917555809021,\n  0.9385625720024109],\n 'recall_3': [0.8295912742614746,\n  0.8862022757530212,\n  0.9161389470100403,\n  0.9247745275497437,\n  0.9307234883308411,\n  0.930915355682373,\n  0.9332181811332703,\n  0.932258665561676],\n 'true_positives_3': [4323.0,\n  4618.0,\n  4774.0,\n  4819.0,\n  4850.0,\n  4851.0,\n  4863.0,\n  4858.0],\n 'true_negatives_3': [5021.0,\n  5364.0,\n  5531.0,\n  5598.0,\n  5614.0,\n  5621.0,\n  5613.0,\n  5606.0],\n 'false_positives_3': [903.0, 560.0, 393.0, 326.0, 310.0, 303.0, 311.0, 318.0],\n 'false_negatives_3': [888.0, 593.0, 437.0, 392.0, 361.0, 360.0, 348.0, 353.0],\n 'val_loss': [1.663468837738037,\n  0.5334312319755554,\n  0.4099498987197876,\n  0.40167373418807983,\n  0.38926246762275696,\n  0.42540839314460754,\n  0.4429398477077484,\n  0.4368096590042114],\n 'val_binary_accuracy': [0.857701301574707,\n  0.8749022483825684,\n  0.8725566864013672,\n  0.8803752660751343,\n  0.8725566864013672,\n  0.8803752660751343,\n  0.8561376333236694,\n  0.8522282838821411],\n 'val_accuracy': [0.14933541417121887,\n  0.02111024223268032,\n  0.0039093042723834515,\n  0.004691164940595627,\n  0.0031274433713406324,\n  0.007818608544766903,\n  0.005473025608807802,\n  0.004691164940595627],\n 'val_auc_3': [0.8781949877738953,\n  0.9299147725105286,\n  0.9316580891609192,\n  0.9377636909484863,\n  0.9359781742095947,\n  0.931602954864502,\n  0.9278548359870911,\n  0.9277150630950928],\n 'val_precision_3': [0.9210526347160339,\n  0.868534505367279,\n  0.8204158544540405,\n  0.875268816947937,\n  0.8708971738815308,\n  0.8597938418388367,\n  0.7859712243080139,\n  0.7779751420021057],\n 'val_recall_3': [0.6972111463546753,\n  0.8027888536453247,\n  0.8645418286323547,\n  0.8107569813728333,\n  0.7928286790847778,\n  0.8306772708892822,\n  0.870517909526825,\n  0.8725099563598633],\n 'val_true_positives_3': [350.0,\n  403.0,\n  434.0,\n  407.0,\n  398.0,\n  417.0,\n  437.0,\n  438.0],\n 'val_true_negatives_3': [747.0,\n  716.0,\n  682.0,\n  719.0,\n  718.0,\n  709.0,\n  658.0,\n  652.0],\n 'val_false_positives_3': [30.0, 61.0, 95.0, 58.0, 59.0, 68.0, 119.0, 125.0],\n 'val_false_negatives_3': [152.0, 99.0, 68.0, 95.0, 104.0, 85.0, 65.0, 64.0]}"
     },
     "execution_count": 29,
     "metadata": {},
     "output_type": "execute_result"
    }
   ]
  },
  {
   "cell_type": "code",
   "metadata": {
    "cell_id": "00025-77ba1967-5db4-44a5-872e-03aac92315f8",
    "deepnote_cell_type": "code"
   },
   "source": "# list all data in history\nprint(history_1_1.history.keys())",
   "execution_count": 30,
   "outputs": [
    {
     "name": "stdout",
     "output_type": "stream",
     "text": "dict_keys(['loss', 'binary_accuracy', 'accuracy', 'auc_3', 'precision_3', 'recall_3', 'true_positives_3', 'true_negatives_3', 'false_positives_3', 'false_negatives_3', 'val_loss', 'val_binary_accuracy', 'val_accuracy', 'val_auc_3', 'val_precision_3', 'val_recall_3', 'val_true_positives_3', 'val_true_negatives_3', 'val_false_positives_3', 'val_false_negatives_3'])\n"
    }
   ]
  },
  {
   "cell_type": "code",
   "metadata": {
    "cell_id": "00026-ea8efc45-0727-4898-a615-4b502efb56e2",
    "deepnote_cell_type": "code"
   },
   "source": "# summarize history for accuracy\nplt.figure(figsize=(8, 8))\nplt.subplot(1, 2, 1)\nplt.plot(history_1_1.history['binary_accuracy'], label='Training Accuracy')\nplt.plot(history_1_1.history['val_binary_accuracy'], label='Validation Accuracy')\nplt.legend(loc='lower right')\nplt.title('Training and Validation Binary Accuracy for Model 1.1')\n\nplt.subplot(1, 2, 2)\nplt.plot(history_1_1.history['loss'], label='Training Loss')\nplt.plot(history_1_1.history['val_loss'], label='Validation Loss')\nplt.legend(loc='upper right')\nplt.title('Training and Validation Loss for Model 1.1')",
   "execution_count": 36,
   "outputs": [
    {
     "data": {
      "text/plain": "Text(0.5, 1.0, 'Training and Validation Loss for Model 1.1')"
     },
     "execution_count": 36,
     "metadata": {},
     "output_type": "execute_result"
    },
    {
     "data": {
      "image/png": "[encoded data removed]",
      "text/plain": "<Figure size 576x576 with 2 Axes>"
     },
     "metadata": {
      "needs_background": "light",
      "image/png": {
       "width": 544,
       "height": 482
      }
     },
     "output_type": "display_data"
    }
   ]
  },
  {
   "cell_type": "code",
   "metadata": {
    "cell_id": "00027-1e1964cd-5b67-4f18-a9bc-adf9cd53cd2e",
    "deepnote_cell_type": "code"
   },
   "source": "plt.plot(history_1_1.history['auc_3'], label='Training AUC for ROC')\nplt.plot(history_1_1.history['val_auc_3'], label='Validation AUC for ROC')\nplt.legend(loc='lower right')\nplt.title('Training and Validation AUC')",
   "execution_count": 38,
   "outputs": [
    {
     "data": {
      "text/plain": "Text(0.5, 1.0, 'Training and Validation AUC')"
     },
     "execution_count": 38,
     "metadata": {},
     "output_type": "execute_result"
    },
    {
     "data": {
      "image/png": "[encoded data removed]",
      "text/plain": "<Figure size 432x288 with 1 Axes>"
     },
     "metadata": {
      "needs_background": "light",
      "image/png": {
       "width": 378,
       "height": 264
      }
     },
     "output_type": "display_data"
    }
   ]
  },
  {
   "cell_type": "code",
   "metadata": {
    "cell_id": "00028-f3aceb30-b4c6-4632-b6d2-f6bf5a5bd83c",
    "deepnote_cell_type": "code"
   },
   "source": "",
   "execution_count": null,
   "outputs": []
  },
  {
   "cell_type": "code",
   "metadata": {
    "cell_id": "00029-94223e8c-d54b-49fa-900e-7ddd8a1a7094",
    "deepnote_cell_type": "code"
   },
   "source": "",
   "execution_count": null,
   "outputs": []
  },
  {
   "cell_type": "code",
   "metadata": {
    "cell_id": "00030-31436e0f-cebd-44b8-81b6-76d2f27b94b6",
    "deepnote_cell_type": "code"
   },
   "source": "",
   "execution_count": null,
   "outputs": []
  },
  {
   "cell_type": "code",
   "metadata": {
    "cell_id": "00031-95d22441-67af-4ec0-bed1-3ae35ce2ca04",
    "deepnote_cell_type": "code"
   },
   "source": "model_1_2 = keras.Model(inputs, outputs_1)\nmodel_1_2.compile(optimizer=keras.optimizers.SGD(),\n              loss=keras.losses.BinaryCrossentropy(),\n              metrics=[keras.metrics.BinaryAccuracy(), keras.metrics.Accuracy(), keras.metrics.AUC(), keras.metrics.Precision(),keras.metrics.Recall(), \n                      keras.metrics.TruePositives(), keras.metrics.TrueNegatives(), keras.metrics.FalsePositives(), \n                    keras.metrics.FalseNegatives()])",
   "execution_count": null,
   "outputs": []
  },
  {
   "cell_type": "code",
   "metadata": {
    "cell_id": "00032-b0033538-31e7-47e9-9b53-f4ffeaf7786d",
    "deepnote_cell_type": "code"
   },
   "source": "history_1_2 = model_1_2.fit(data_pp, label, epochs=epochs_range, validation_data=(val_data_pp, val_label))",
   "execution_count": null,
   "outputs": []
  },
  {
   "cell_type": "code",
   "metadata": {
    "cell_id": "00033-9932620c-f876-42c0-8f5c-f6af3311303f",
    "deepnote_cell_type": "code"
   },
   "source": "\nplt.plot(history_1_2.history['binary_accuracy'])\nplt.plot(history_1_2.history['val_binary_accuracy'])\n",
   "execution_count": null,
   "outputs": []
  },
  {
   "cell_type": "code",
   "metadata": {
    "cell_id": "00034-0703baec-fa76-465f-8cdd-c87b4545e7f1",
    "deepnote_cell_type": "code"
   },
   "source": "",
   "execution_count": null,
   "outputs": []
  },
  {
   "cell_type": "markdown",
   "source": "",
   "metadata": {
    "cell_id": "00035-a0839112-395b-4dbb-864c-59309b9b1291",
    "deepnote_cell_type": "markdown"
   }
  },
  {
   "cell_type": "code",
   "metadata": {
    "cell_id": "00036-e46fdc1f-5b6d-4a47-a4b2-9b196517c991",
    "deepnote_cell_type": "code"
   },
   "source": "x_2 = keras.layers.Dense(256, activation= 'relu')(x)\nx_2 = keras.layers.Dense(128, activation= 'relu')(x_2)\noutputs_2 = keras.layers.Dense(1, activation='sigmoid')(x_2)\nmodel_2 = keras.Model(inputs, outputs_2)",
   "execution_count": null,
   "outputs": []
  },
  {
   "cell_type": "code",
   "metadata": {
    "cell_id": "00037-da3b5438-b053-4378-bb36-a9c36ec24b26",
    "deepnote_cell_type": "code"
   },
   "source": "model_2.summary()",
   "execution_count": null,
   "outputs": []
  },
  {
   "cell_type": "code",
   "metadata": {
    "cell_id": "00038-fd848ad4-3f2a-4461-b5c7-95dc985ef5e5",
    "deepnote_cell_type": "code"
   },
   "source": "model_2.compile(optimizer=keras.optimizers.Adam(),\n              loss=keras.losses.BinaryCrossentropy(),\n              metrics=[keras.metrics.BinaryAccuracy(), keras.metrics.Accuracy(), keras.metrics.AUC(), keras.metrics.Precision(),keras.metrics.Recall(), \n                      keras.metrics.TruePositives(), keras.metrics.TrueNegatives(), keras.metrics.FalsePositives(), \n                    keras.metrics.FalseNegatives()])",
   "execution_count": null,
   "outputs": []
  },
  {
   "cell_type": "code",
   "metadata": {
    "cell_id": "00039-543ad768-2f77-4722-ba8e-47d2f79dd79a",
    "deepnote_cell_type": "code"
   },
   "source": "history_2 = model_2.fit(data_pp, label, epochs=epochs_range, validation_data=(val_data_pp, val_label))",
   "execution_count": null,
   "outputs": []
  },
  {
   "cell_type": "code",
   "metadata": {
    "cell_id": "00040-5f83bb36-9d56-46d8-97da-537af64e37b0",
    "deepnote_cell_type": "code"
   },
   "source": "",
   "execution_count": null,
   "outputs": []
  },
  {
   "cell_type": "code",
   "metadata": {
    "cell_id": "00041-656d36f5-4389-4bb8-9e84-882dbef7e063",
    "deepnote_cell_type": "code"
   },
   "source": "",
   "execution_count": null,
   "outputs": []
  },
  {
   "cell_type": "code",
   "metadata": {
    "cell_id": "00042-62307b31-aea9-4d73-893c-55182a281925",
    "deepnote_cell_type": "code"
   },
   "source": "",
   "execution_count": null,
   "outputs": []
  },
  {
   "cell_type": "code",
   "metadata": {
    "cell_id": "00043-cb4ac8e0-d801-4345-9703-628736d18ec6",
    "deepnote_cell_type": "code"
   },
   "source": "outputs_3 = keras.layers.Dense(1, activation='sigmoid')(x)\nmodel_3_1 = keras.Model(inputs, outputs_3)\nmodel_3_2 = keras.Model(inputs, outputs_3)",
   "execution_count": null,
   "outputs": []
  },
  {
   "cell_type": "code",
   "metadata": {
    "cell_id": "00044-c3fffd84-f1ac-482b-b7ce-097e064cb95d",
    "deepnote_cell_type": "code"
   },
   "source": "model_3_1.compile(optimizer=keras.optimizers.Adam(),\n              loss=keras.losses.BinaryCrossentropy(),\n              metrics=[keras.metrics.BinaryAccuracy(), keras.metrics.Accuracy(), keras.metrics.AUC(), keras.metrics.Precision(),keras.metrics.Recall(), \n                      keras.metrics.TruePositives(), keras.metrics.TrueNegatives(), keras.metrics.FalsePositives(), \n                    keras.metrics.FalseNegatives()])",
   "execution_count": null,
   "outputs": []
  },
  {
   "cell_type": "code",
   "metadata": {
    "cell_id": "00045-09df05d1-c0fe-4f08-b133-6ed20e719c07",
    "deepnote_cell_type": "code"
   },
   "source": "history_3_1 = model_3_1.fit(data_pp, label, epochs=epochs_range, validation_data=(val_data_pp, val_label))",
   "execution_count": null,
   "outputs": []
  },
  {
   "cell_type": "code",
   "metadata": {
    "cell_id": "00046-2a9dfc99-5db5-49bc-be54-83f2f30506c9",
    "deepnote_cell_type": "code"
   },
   "source": "model_3_2.compile(optimizer=keras.optimizers.SGD(),\n              loss=keras.losses.BinaryCrossentropy(),\n              metrics=[keras.metrics.BinaryAccuracy(), keras.metrics.Accuracy(), keras.metrics.AUC(), keras.metrics.Precision(),keras.metrics.Recall(), \n                      keras.metrics.TruePositives(), keras.metrics.TrueNegatives(), keras.metrics.FalsePositives(), \n                    keras.metrics.FalseNegatives()])",
   "execution_count": null,
   "outputs": []
  },
  {
   "cell_type": "code",
   "metadata": {
    "cell_id": "00047-c39c9ff6-17ac-4cab-9084-f90469a8832b",
    "deepnote_cell_type": "code"
   },
   "source": "history_3_2 = model_3_2.fit(data_pp, label, epochs=epochs_range, validation_data=(val_data_pp, val_label))",
   "execution_count": null,
   "outputs": []
  },
  {
   "cell_type": "markdown",
   "source": "<a style='text-decoration:none;line-height:16px;display:flex;color:#5B5B62;padding:10px;justify-content:end;' href='https://deepnote.com?utm_source=created-in-deepnote-cell&projectId=9c67a883-3918-439e-a462-2827f4672e07' target=\"_blank\">\n<img alt='Created in deepnote.com' style='display:inline;max-height:16px;margin:0px;margin-right:7.5px;' src='data:image/svg+xml;base64,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' > </img>\nCreated in <span style='font-weight:600;margin-left:4px;'>Deepnote</span></a>",
   "metadata": {
    "tags": [],
    "created_in_deepnote_cell": true,
    "deepnote_cell_type": "markdown"
   }
  }
 ],
 "nbformat": 4,
 "nbformat_minor": 4,
 "metadata": {
  "kernelspec": {
   "display_name": "Python 3",
   "language": "python",
   "name": "python3"
  },
  "language_info": {
   "codemirror_mode": {
    "name": "ipython",
    "version": 3
   },
   "file_extension": ".py",
   "mimetype": "text/x-python",
   "name": "python",
   "nbconvert_exporter": "python",
   "pygments_lexer": "ipython3",
   "version": "3.8.5"
  },
  "deepnote_notebook_id": "8af4a926-17d0-4995-b3c2-78793a28c134",
  "deepnote": {},
  "deepnote_execution_queue": []
 }
}