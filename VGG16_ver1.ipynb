{
 "cells": [
  {
   "cell_type": "code",
   "metadata": {
    "cell_id": "00000-f4fba9ec-def5-4c4d-92f2-431e25a1c5d6",
    "deepnote_cell_type": "code"
   },
   "source": "import imageio\nimport glob\nimport numpy as np",
   "outputs": [],
   "execution_count": null
  },
  {
   "cell_type": "code",
   "metadata": {
    "cell_id": "00001-913c35f1-0b87-484a-a4c9-02eb43682ce9",
    "deepnote_cell_type": "code"
   },
   "source": "import tensorflow as tf\nfrom tensorflow import keras",
   "outputs": [],
   "execution_count": null
  },
  {
   "cell_type": "code",
   "metadata": {
    "cell_id": "00002-baeadbff-7fc9-4c70-b056-dfe0a49b568a",
    "deepnote_cell_type": "code"
   },
   "source": "path = \"C:/Users/karni/Documents/Data Science and Society Coursework/Blok 1/Deep Learning/Assignment/Train Data set/Train/Train/\"",
   "outputs": [],
   "execution_count": null
  },
  {
   "cell_type": "code",
   "metadata": {
    "cell_id": "00003-35eadda7-a86a-445c-9d3e-2e1aa5b6f719",
    "deepnote_cell_type": "code"
   },
   "source": "genders = ['Male', 'Female']\nfrmt = \"png\"",
   "outputs": [],
   "execution_count": null
  },
  {
   "cell_type": "code",
   "metadata": {
    "cell_id": "00004-12f54e3e-a2c4-4f36-9a04-0e7acb3d74fd",
    "deepnote_cell_type": "code"
   },
   "source": "def imgtodataset(path, genders, frmt):\n    data_l = []\n    label_l = []\n    \n    for i in range(len(genders)):\n        for im_path in glob.glob(path + genders[i] + \"/*.\" + frmt):\n            im = imageio.imread(im_path)\n            arr = np.array(im)\n            data_l.append(arr)\n            label_l.append(i)\n\n    data = np.array(data_l)\n    label = np.array(label_l)        \n    \n    return data, label",
   "outputs": [],
   "execution_count": null
  },
  {
   "cell_type": "code",
   "metadata": {
    "cell_id": "00005-41623c61-3f11-4146-a2fc-e73a23d9fa4a",
    "deepnote_cell_type": "code"
   },
   "source": "data, label = imgtodataset(path, genders, frmt)",
   "outputs": [],
   "execution_count": null
  },
  {
   "cell_type": "code",
   "metadata": {
    "cell_id": "00006-469595ad-b609-48ee-8cf5-96c4752cc1b6",
    "deepnote_cell_type": "code"
   },
   "source": "## np.savez('training_data.npz', data, label)",
   "outputs": [],
   "execution_count": null
  },
  {
   "cell_type": "code",
   "metadata": {
    "cell_id": "00007-c5f6a73a-ae64-47de-9421-ad8bdda53b94",
    "deepnote_cell_type": "code"
   },
   "source": "",
   "execution_count": null,
   "outputs": []
  },
  {
   "cell_type": "code",
   "metadata": {
    "cell_id": "00008-17909b3d-13e4-4967-b5ea-4ff63ebcff23",
    "deepnote_cell_type": "code"
   },
   "source": "data_pp = tf.keras.applications.vgg16.preprocess_input(\n        data, data_format=None\n    )",
   "outputs": [],
   "execution_count": null
  },
  {
   "cell_type": "code",
   "metadata": {
    "cell_id": "00009-5483e071-19fa-49ad-8a56-c3fd73c5cc1c",
    "deepnote_cell_type": "code"
   },
   "source": "model1 = tf.keras.applications.vgg16.VGG16(\n    include_top=False, weights='imagenet', input_tensor=None,\n    input_shape=(100,100,3), pooling=max, classes=2)",
   "outputs": [
    {
     "name": "stdout",
     "output_type": "stream",
     "text": "Downloading data from https://storage.googleapis.com/tensorflow/keras-applications/vgg16/vgg16_weights_tf_dim_ordering_tf_kernels_notop.h5\n58892288/58889256 [==============================] - 3s 0us/step\n"
    }
   ],
   "execution_count": null
  },
  {
   "cell_type": "code",
   "metadata": {
    "cell_id": "00010-c711cc7b-d160-4fc5-9f23-64fd91ce3f31",
    "deepnote_cell_type": "code"
   },
   "source": "model1.summary()",
   "outputs": [
    {
     "name": "stdout",
     "output_type": "stream",
     "text": "Model: \"vgg16\"\n_________________________________________________________________\nLayer (type)                 Output Shape              Param #   \n=================================================================\ninput_1 (InputLayer)         [(None, 100, 100, 3)]     0         \n_________________________________________________________________\nblock1_conv1 (Conv2D)        (None, 100, 100, 64)      1792      \n_________________________________________________________________\nblock1_conv2 (Conv2D)        (None, 100, 100, 64)      36928     \n_________________________________________________________________\nblock1_pool (MaxPooling2D)   (None, 50, 50, 64)        0         \n_________________________________________________________________\nblock2_conv1 (Conv2D)        (None, 50, 50, 128)       73856     \n_________________________________________________________________\nblock2_conv2 (Conv2D)        (None, 50, 50, 128)       147584    \n_________________________________________________________________\nblock2_pool (MaxPooling2D)   (None, 25, 25, 128)       0         \n_________________________________________________________________\nblock3_conv1 (Conv2D)        (None, 25, 25, 256)       295168    \n_________________________________________________________________\nblock3_conv2 (Conv2D)        (None, 25, 25, 256)       590080    \n_________________________________________________________________\nblock3_conv3 (Conv2D)        (None, 25, 25, 256)       590080    \n_________________________________________________________________\nblock3_pool (MaxPooling2D)   (None, 12, 12, 256)       0         \n_________________________________________________________________\nblock4_conv1 (Conv2D)        (None, 12, 12, 512)       1180160   \n_________________________________________________________________\nblock4_conv2 (Conv2D)        (None, 12, 12, 512)       2359808   \n_________________________________________________________________\nblock4_conv3 (Conv2D)        (None, 12, 12, 512)       2359808   \n_________________________________________________________________\nblock4_pool (MaxPooling2D)   (None, 6, 6, 512)         0         \n_________________________________________________________________\nblock5_conv1 (Conv2D)        (None, 6, 6, 512)         2359808   \n_________________________________________________________________\nblock5_conv2 (Conv2D)        (None, 6, 6, 512)         2359808   \n_________________________________________________________________\nblock5_conv3 (Conv2D)        (None, 6, 6, 512)         2359808   \n_________________________________________________________________\nblock5_pool (MaxPooling2D)   (None, 3, 3, 512)         0         \n=================================================================\nTotal params: 14,714,688\nTrainable params: 14,714,688\nNon-trainable params: 0\n_________________________________________________________________\n"
    }
   ],
   "execution_count": null
  },
  {
   "cell_type": "code",
   "metadata": {
    "cell_id": "00011-c5ac3442-2800-408c-a9a1-601dd8bad1d5",
    "deepnote_cell_type": "code"
   },
   "source": "model1.trainable = False",
   "outputs": [],
   "execution_count": null
  },
  {
   "cell_type": "code",
   "metadata": {
    "cell_id": "00012-804a973e-471c-4548-af57-d86293cd40ff",
    "deepnote_cell_type": "code"
   },
   "source": "inputs = keras.Input(shape=(100, 100, 3))",
   "outputs": [],
   "execution_count": null
  },
  {
   "cell_type": "code",
   "metadata": {
    "cell_id": "00013-a0ef0ff5-5c55-44b8-89d4-0a5b5b2e0d9c",
    "deepnote_cell_type": "code"
   },
   "source": "x = model1(inputs, training=False)",
   "outputs": [],
   "execution_count": null
  },
  {
   "cell_type": "code",
   "metadata": {
    "cell_id": "00014-d936aab0-0ba5-49a0-9ca1-a8a3ad55845d",
    "deepnote_cell_type": "code"
   },
   "source": "x = keras.layers.Flatten()(x)",
   "outputs": [],
   "execution_count": null
  },
  {
   "cell_type": "code",
   "metadata": {
    "cell_id": "00015-05d37f87-79d8-482f-8e99-62cebd055395",
    "deepnote_cell_type": "code"
   },
   "source": "outputs = keras.layers.Dense(1)(x)",
   "outputs": [],
   "execution_count": null
  },
  {
   "cell_type": "code",
   "metadata": {
    "cell_id": "00016-1a032e12-f7fd-46bc-855f-86fb782cd6b8",
    "deepnote_cell_type": "code"
   },
   "source": "model = keras.Model(inputs, outputs)",
   "outputs": [],
   "execution_count": null
  },
  {
   "cell_type": "code",
   "metadata": {
    "cell_id": "00017-08259884-0a01-40f4-b080-7d5783a39e97",
    "deepnote_cell_type": "code"
   },
   "source": "model.compile(optimizer=keras.optimizers.Adam(),\n              loss=keras.losses.BinaryCrossentropy(from_logits=True),\n              metrics=[keras.metrics.Accuracy(), keras.metrics.AUC(), keras.metrics.Precision(),keras.metrics.Recall(), \n                      keras.metrics.TruePositives(), keras.metrics.TrueNegatives(), keras.metrics.TFalsePositives(), \n                        keras.metrics.FalseNegatives()])",
   "execution_count": null,
   "outputs": []
  },
  {
   "cell_type": "code",
   "metadata": {
    "cell_id": "00018-ca8270b5-f584-46f1-a74c-3d15afeebae9",
    "deepnote_cell_type": "code"
   },
   "source": "history = model.fit(data_pp, label, epochs=2, validation_split = 0.5)",
   "outputs": [
    {
     "name": "stdout",
     "output_type": "stream",
     "text": "Epoch 1/2\n174/174 [==============================] - 359s 2s/step - loss: 0.0146 - binary_accuracy: 0.9953 - val_loss: 19.8058 - val_binary_accuracy: 0.0738\nEpoch 2/2\n174/174 [==============================] - 365s 2s/step - loss: 4.6930e-07 - binary_accuracy: 1.0000 - val_loss: 19.8112 - val_binary_accuracy: 0.0738\n"
    }
   ],
   "execution_count": null
  },
  {
   "cell_type": "code",
   "metadata": {
    "cell_id": "00019-136c9a00-8a3b-458c-905c-1cbd4a3179bb",
    "deepnote_cell_type": "code"
   },
   "source": "history.history",
   "outputs": [
    {
     "data": {
      "text/plain": "{'loss': [0.014630516991019249, 4.693013693213288e-07],\n 'binary_accuracy': [0.9953296184539795, 1.0],\n 'val_loss': [19.80577850341797, 19.811233520507812],\n 'val_binary_accuracy': [0.07381465286016464, 0.07381465286016464]}"
     },
     "execution_count": 56,
     "metadata": {},
     "output_type": "execute_result"
    }
   ],
   "execution_count": null
  },
  {
   "cell_type": "code",
   "metadata": {
    "cell_id": "00020-ff9cf09a-d464-405f-907f-32da989c9721",
    "deepnote_cell_type": "code"
   },
   "source": "# list all data in history\nprint(history.history.keys())",
   "outputs": [
    {
     "name": "stdout",
     "output_type": "stream",
     "text": "dict_keys(['loss', 'binary_accuracy', 'val_loss', 'val_binary_accuracy'])\n"
    }
   ],
   "execution_count": null
  },
  {
   "cell_type": "code",
   "metadata": {
    "cell_id": "00021-caddd8d1-4cf9-4db2-9011-918be250165a",
    "deepnote_cell_type": "code"
   },
   "source": "import matplotlib.pyplot as plt\n",
   "outputs": [],
   "execution_count": null
  },
  {
   "cell_type": "code",
   "metadata": {
    "cell_id": "00022-de7b6d90-e112-4833-be9b-30864c2c834b",
    "deepnote_cell_type": "code"
   },
   "source": "# summarize history for accuracy\nplt.plot(history.history['accuracy'])",
   "outputs": [
    {
     "data": {
      "text/plain": "[<matplotlib.lines.Line2D at 0x20dc5c34250>]"
     },
     "execution_count": 59,
     "metadata": {},
     "output_type": "execute_result"
    },
    {
     "data": {
      "image/png": "[encoded data removed]",
      "text/plain": "<Figure size 432x288 with 1 Axes>"
     },
     "metadata": {
      "needs_background": "light",
      "image/png": {
       "width": 384,
       "height": 248
      }
     },
     "output_type": "display_data"
    }
   ],
   "execution_count": null
  },
  {
   "cell_type": "code",
   "metadata": {
    "cell_id": "00023-3ef9c512-6c65-4050-85ca-5886454c257a",
    "deepnote_cell_type": "code"
   },
   "source": "plt.plot(history.history['val_accuracy'])",
   "outputs": [
    {
     "data": {
      "text/plain": "[<matplotlib.lines.Line2D at 0x20dc614beb0>]"
     },
     "execution_count": 60,
     "metadata": {},
     "output_type": "execute_result"
    },
    {
     "data": {
      "image/png": "[encoded data removed]",
      "text/plain": "<Figure size 432x288 with 1 Axes>"
     },
     "metadata": {
      "needs_background": "light",
      "image/png": {
       "width": 384,
       "height": 248
      }
     },
     "output_type": "display_data"
    }
   ],
   "execution_count": null
  },
  {
   "cell_type": "code",
   "metadata": {
    "cell_id": "00024-8d814f1c-0e6b-4a19-8f01-546ea4867af4",
    "deepnote_cell_type": "code"
   },
   "source": "history.history['val_accuracy']",
   "outputs": [
    {
     "data": {
      "text/plain": "[0.8823529481887817]"
     },
     "execution_count": 53,
     "metadata": {},
     "output_type": "execute_result"
    }
   ],
   "execution_count": null
  },
  {
   "cell_type": "code",
   "metadata": {
    "cell_id": "00025-573581d3-f565-4a9f-a46b-b7da8d54e2af",
    "deepnote_cell_type": "code"
   },
   "source": "",
   "execution_count": null,
   "outputs": []
  },
  {
   "cell_type": "markdown",
   "source": "<a style='text-decoration:none;line-height:16px;display:flex;color:#5B5B62;padding:10px;justify-content:end;' href='https://deepnote.com?utm_source=created-in-deepnote-cell&projectId=9c67a883-3918-439e-a462-2827f4672e07' target=\"_blank\">\n<img alt='Created in deepnote.com' style='display:inline;max-height:16px;margin:0px;margin-right:7.5px;' src='data:image/svg+xml;base64,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' > </img>\nCreated in <span style='font-weight:600;margin-left:4px;'>Deepnote</span></a>",
   "metadata": {
    "tags": [],
    "created_in_deepnote_cell": true,
    "deepnote_cell_type": "markdown"
   }
  }
 ],
 "nbformat": 4,
 "nbformat_minor": 4,
 "metadata": {
  "kernelspec": {
   "display_name": "Python 3",
   "language": "python",
   "name": "python3"
  },
  "language_info": {
   "codemirror_mode": {
    "name": "ipython",
    "version": 3
   },
   "file_extension": ".py",
   "mimetype": "text/x-python",
   "name": "python",
   "nbconvert_exporter": "python",
   "pygments_lexer": "ipython3",
   "version": "3.8.5"
  },
  "deepnote_notebook_id": "6aa5f127-1141-4171-81df-a685dd45d045",
  "deepnote": {},
  "deepnote_execution_queue": []
 }
}